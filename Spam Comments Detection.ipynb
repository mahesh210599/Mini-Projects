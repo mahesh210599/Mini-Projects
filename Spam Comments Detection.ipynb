{
 "cells": [
  {
   "cell_type": "code",
   "execution_count": 22,
   "id": "945085c7",
   "metadata": {},
   "outputs": [
    {
     "name": "stdout",
     "output_type": "stream",
     "text": [
      "                                COMMENT_ID         AUTHOR  \\\n",
      "80     z122f1fy5muwdxdxd04cexyxes3hh5hrifc         Squir3   \n",
      "57   z13eepr4dyjet34pt04cgr1rctvwsvqwqso0k      JP Jochem   \n",
      "168  z13udh04hqjeyney404cgloh0vbegbmgvq40k        fad lad   \n",
      "115    z13jsrtahyyqv53jc04cdr4bcwfwg3lauek  kenny clayton   \n",
      "244      z12denip3u2dyzqte23ytjoqdsieizlta     Bert Ernie   \n",
      "\n",
      "                    DATE                                            CONTENT  \\\n",
      "80   2014-11-02T18:34:03    http://woobox.com/33gxrf/brt0u5 FREE CS GO!!!!﻿   \n",
      "57   2014-01-20T20:23:35  Subscribe and like to me for more how to video...   \n",
      "168  2014-11-06T18:24:19  http://www.amazon.co.uk/gp/offer-listing/B00EC...   \n",
      "115  2014-11-05T06:34:19                                      #2012bitches﻿   \n",
      "244  2014-11-08T00:45:40  this jap is such a piece of shit. he is such a...   \n",
      "\n",
      "     CLASS  \n",
      "80       1  \n",
      "57       1  \n",
      "168      1  \n",
      "115      0  \n",
      "244      0  \n"
     ]
    }
   ],
   "source": [
    "import pandas as pd\n",
    "import numpy as np\n",
    "from sklearn.feature_extraction.text import CountVectorizer\n",
    "from sklearn.model_selection import train_test_split\n",
    "from sklearn.naive_bayes import BernoulliNB\n",
    "\n",
    "data = pd.read_csv(\"C:\\\\Users\\\\Mahesh\\\\Downloads\\\\archive (14)\\\\youtube-spam-collection-v1\\\\Youtube01-Psy.csv\")\n",
    "print(data.sample(5))"
   ]
  },
  {
   "cell_type": "code",
   "execution_count": 23,
   "id": "05ca8d35",
   "metadata": {},
   "outputs": [
    {
     "name": "stdout",
     "output_type": "stream",
     "text": [
      "                                               CONTENT  CLASS\n",
      "71   plz check out fablife / welcome to fablife for...      1\n",
      "231               Follow me on Instagram. _chris_cz  ﻿      1\n",
      "17   http://www.ebay.com/itm/171183229277?ssPageNam...      1\n",
      "212                                Still the best. :D﻿      0\n",
      "291            2 billion views, only 2 million shares﻿      0\n"
     ]
    }
   ],
   "source": [
    "data = data[[\"CONTENT\", \"CLASS\"]]\n",
    "print(data.sample(5))"
   ]
  },
  {
   "cell_type": "code",
   "execution_count": 24,
   "id": "c28cb3c6",
   "metadata": {},
   "outputs": [
    {
     "name": "stdout",
     "output_type": "stream",
     "text": [
      "                                               CONTENT               CLASS\n",
      "259  Hey everyone, I am a new channel and will post...        Spam Comment\n",
      "181                        Please check out my vidios﻿        Spam Comment\n",
      "168  http://www.amazon.co.uk/gp/offer-listing/B00EC...        Spam Comment\n",
      "116                                 Made in china....﻿  Not a Spam comment\n",
      "101  they said this video are not deserve 2billion ...  Not a Spam comment\n"
     ]
    }
   ],
   "source": [
    "data[\"CLASS\"] = data[\"CLASS\"].map({0: \"Not a Spam comment\",\n",
    "                                   1: \"Spam Comment\"})\n",
    "print(data.sample(5))"
   ]
  },
  {
   "cell_type": "code",
   "execution_count": 25,
   "id": "26d421ae",
   "metadata": {},
   "outputs": [
    {
     "name": "stdout",
     "output_type": "stream",
     "text": [
      "0.9857142857142858\n"
     ]
    }
   ],
   "source": [
    "x = np.array(data[\"CONTENT\"])\n",
    "y = np.array(data[\"CLASS\"])\n",
    "\n",
    "cv = CountVectorizer()\n",
    "x = cv.fit_transform(x)\n",
    "xtrain, xtest, ytrain, ytest = train_test_split(x, y, \n",
    "                                                test_size=0.2, \n",
    "                                                random_state=42)\n",
    "\n",
    "model = BernoulliNB()\n",
    "model.fit(xtrain, ytrain)\n",
    "print(model.score(xtest, ytest))"
   ]
  },
  {
   "cell_type": "code",
   "execution_count": 30,
   "id": "b284d389",
   "metadata": {},
   "outputs": [
    {
     "name": "stdout",
     "output_type": "stream",
     "text": [
      "['Spam Comment']\n"
     ]
    }
   ],
   "source": [
    "sample = \"check this out https\\ www.hostpot.in great thing\"\n",
    "data = cv.transform([sample]).toarray()\n",
    "print(model.predict(data))"
   ]
  },
  {
   "cell_type": "code",
   "execution_count": 27,
   "id": "3387e606",
   "metadata": {},
   "outputs": [
    {
     "name": "stdout",
     "output_type": "stream",
     "text": [
      "['Not a Spam comment']\n"
     ]
    }
   ],
   "source": [
    "sample = \"Lack of information!\" \n",
    "data = cv.transform([sample]).toarray()\n",
    "print(model.predict(data)) "
   ]
  },
  {
   "cell_type": "code",
   "execution_count": null,
   "id": "8ef0af4c",
   "metadata": {},
   "outputs": [],
   "source": []
  }
 ],
 "metadata": {
  "kernelspec": {
   "display_name": "Python 3 (ipykernel)",
   "language": "python",
   "name": "python3"
  },
  "language_info": {
   "codemirror_mode": {
    "name": "ipython",
    "version": 3
   },
   "file_extension": ".py",
   "mimetype": "text/x-python",
   "name": "python",
   "nbconvert_exporter": "python",
   "pygments_lexer": "ipython3",
   "version": "3.9.13"
  }
 },
 "nbformat": 4,
 "nbformat_minor": 5
}
